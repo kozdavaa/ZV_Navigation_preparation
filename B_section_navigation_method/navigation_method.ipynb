{
 "cells": [
  {
   "cell_type": "code",
   "execution_count": 13,
   "metadata": {},
   "outputs": [],
   "source": [
    "from numpy import cos, sin, dot, array, sqrt, linalg\n",
    "import numpy as np\n",
    "import quaternion"
   ]
  },
  {
   "cell_type": "markdown",
   "metadata": {},
   "source": [
    "## Orientációs feladatok\n",
    "\n",
    "### 1. feladat: Írjuk fel azt a forgatási mátrixot, amely először az Y tengely körüll forgat 30 fokot, majd az X tengely körül forgat 20 fokot!"
   ]
  },
  {
   "cell_type": "code",
   "execution_count": 7,
   "metadata": {},
   "outputs": [
    {
     "name": "stdout",
     "output_type": "stream",
     "text": [
      "[[ 0.15425145  0.         -0.98803162]\n",
      " [ 0.          1.          0.        ]\n",
      " [ 0.98803162  0.          0.15425145]]\n",
      "[[ 1.          0.          0.        ]\n",
      " [ 0.          0.40808206 -0.91294525]\n",
      " [ 0.          0.91294525  0.40808206]]\n",
      "[[ 0.15425145 -0.90201878 -0.40319798]\n",
      " [ 0.          0.40808206 -0.91294525]\n",
      " [ 0.98803162  0.14082313  0.06294725]]\n"
     ]
    }
   ],
   "source": [
    "## Calculate the rotation matrix\n",
    "beta = 30\n",
    "Ry = array([[cos(beta), 0, sin(beta)], [0, 1, 0], [-1*sin(beta), 0, cos(beta)] ])\n",
    "print(Ry)\n",
    "alpha = 20\n",
    "Rx = array([[1, 0, 0], [0, cos(alpha), -1*sin(alpha)], [0, sin(alpha), cos(alpha)]])\n",
    "print(Rx)\n",
    "## Calculate the rotation next to the two axis\n",
    "Ryx = dot(Ry, Rx)\n",
    "print(Ryx)\n"
   ]
  },
  {
   "attachments": {
    "image.png": {
     "image/png": "[encoded data removed]"
    }
   },
   "cell_type": "markdown",
   "metadata": {},
   "source": [
    "### 2.Feladat: ![image.png](attachment:image.png)"
   ]
  },
  {
   "cell_type": "code",
   "execution_count": null,
   "metadata": {},
   "outputs": [],
   "source": [
    "R_I = array([[-0.5,0.5,(sqrt(2)/2)],[0.5,-0.5,-(sqrt(2)/2)],[-(sqrt(2)/2),(sqrt(2)/2),-1]])\n",
    "zerovect = array([0,0,0])\n",
    "v = linalg.solve(R_I,zerovect)\n",
    "print(v)"
   ]
  },
  {
   "cell_type": "markdown",
   "metadata": {},
   "source": [
    "### 3. Feladat: Irjuk fel a v = [1, 2, 3] tengely körüli α = 40◦ forgatáshoz tartozó forgatási kvaterniót! Irjuk fel az ugyanekkora szöggel, de az X tengely körüli forgatást jelképező kvaterniót!"
   ]
  },
  {
   "cell_type": "code",
   "execution_count": 16,
   "metadata": {},
   "outputs": [
    {
     "name": "stdout",
     "output_type": "stream",
     "text": [
      "quaternion(0.408082061813392, 0.243994881507515, 0.487989763015031, 0.731984644522546)\n",
      "quaternion(0.408082061813392, 0.912945250727628, 0, 0)\n"
     ]
    }
   ],
   "source": [
    "theta = 40\n",
    "# Rotation axis\n",
    "v = array([1,2,3])\n",
    "# calculate the unity vector of the rotation\n",
    "u = v / linalg.norm(v)\n",
    "# calculate the rotation quaternion\n",
    "q = np.quaternion(cos(theta/2), sin(theta/2)*u[0], sin(theta/2)*u[1], sin(theta/2)*u[2])\n",
    "print(q)\n",
    "# Rotate arouind the X vect\n",
    "u = array([1,0,0])\n",
    "q = np.quaternion(cos(theta/2), sin(theta/2)*u[0], sin(theta/2)*u[1], sin(theta/2)*u[2])\n",
    "print(q)\n"
   ]
  }
 ],
 "metadata": {
  "kernelspec": {
   "display_name": "venv",
   "language": "python",
   "name": "python3"
  },
  "language_info": {
   "codemirror_mode": {
    "name": "ipython",
    "version": 3
   },
   "file_extension": ".py",
   "mimetype": "text/x-python",
   "name": "python",
   "nbconvert_exporter": "python",
   "pygments_lexer": "ipython3",
   "version": "3.10.6"
  }
 },
 "nbformat": 4,
 "nbformat_minor": 2
}
